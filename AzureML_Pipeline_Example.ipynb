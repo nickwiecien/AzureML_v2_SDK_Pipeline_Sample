{
 "cells": [
  {
   "cell_type": "markdown",
   "id": "78083e56",
   "metadata": {},
   "source": [
    "# Azure Machine Learning Pipeline Example - v2 SDK\n",
    "\n",
    "Sample notebook showcasing how to convert a python script (ex: `./scripts/custom_logic.py`) into a reusable Azure Machine Learning pipeline that can be triggered on a schedule.\n",
    "\n",
    "Here, we convert the python script at `./scripts/custom_logic.py` into a component that can be included as a step in an AML pipeline. Pipelines can contain multiple steps with intermediate outputs at each step. In this example we execute all logic as part of a single step as a standalone component. Moreover, this step utilizes a custom environment which includes all necessary python packages and is defined in `./environment.yml`."
   ]
  },
  {
   "cell_type": "code",
   "execution_count": null,
   "id": "62a6ee0d-30a2-4d2c-88fe-59fd6ce7aa6f",
   "metadata": {},
   "outputs": [],
   "source": [
    "# Import necessary packages and modules  \n",
    "from azure.ai.ml import MLClient, Input, automl\n",
    "from azure.ai.ml import command, Input\n",
    "from azure.ai.ml.dsl import pipeline\n",
    "from azure.ai.ml.entities import CommandJob, CommandJobLimits, Data, AmlCompute, Model, ModelPackage, CodeConfiguration, AzureMLOnlineInferencingServer, ManagedOnlineEndpoint, ManagedOnlineDeployment, Environment\n",
    "from azure.ai.ml.constants import AssetTypes  \n",
    "from azure.ai.ml import automl\n",
    "from azure.identity import DefaultAzureCredential  \n",
    "import mltable  \n",
    "import pandas as pd    \n",
    "import numpy as np    \n",
    "import random"
   ]
  },
  {
   "cell_type": "code",
   "execution_count": null,
   "id": "3e81477c-7337-44a4-b0f4-9b5d667f582c",
   "metadata": {},
   "outputs": [],
   "source": [
    "# Create MLClient object from configuration file and DefaultAzureCredential  \n",
    "ml_client = MLClient.from_config(credential=DefaultAzureCredential())  \n",
    "\n",
    "# Print the MLClient object  \n",
    "print(ml_client)  "
   ]
  },
  {
   "cell_type": "code",
   "execution_count": null,
   "id": "58edd0cb-bfda-49e2-af4c-e5f736ee4000",
   "metadata": {},
   "outputs": [],
   "source": [
    "# Define the name of the CPU compute target to be used or created  \n",
    "cpu_compute_target = \"cpu-cluster\"  \n",
    "  \n",
    "try:  \n",
    "    # Try to get the details of the specified compute target if it already exists  \n",
    "    ml_client.compute.get(cpu_compute_target)  \n",
    "except Exception:  \n",
    "    # If the compute target does not exist, catch the exception and create a new one  \n",
    "    print(\"Creating a new cpu compute target...\")  \n",
    "    # Define the compute target specifications such as name, VM size, and instance limits  \n",
    "    compute = AmlCompute(  \n",
    "        name=cpu_compute_target, size=\"STANDARD_D2_V2\", min_instances=0, max_instances=4  \n",
    "    )  \n",
    "    # Initiate the creation or update of the compute target and wait for the operation to complete  \n",
    "    ml_client.compute.begin_create_or_update(compute).result()  \n"
   ]
  },
  {
   "cell_type": "code",
   "execution_count": null,
   "id": "f9c4c6f4-33db-4c0e-8b1b-27921bb6e0b0",
   "metadata": {},
   "outputs": [],
   "source": [
    "from scripts.components import processing_routine\n",
    "\n",
    "# Pipeline definition - contains a single step using the `processing_routine` component\n",
    "@pipeline(default_compute=cpu_compute_target)\n",
    "def pipeline_with_custom_processing(result_count):\n",
    "    \"\"\"Sample pipeline with components defined via python function components\"\"\"\n",
    "\n",
    "    # Call component obj as function: apply given inputs & parameters to create a node in pipeline\n",
    "    run_processing_routine = processing_routine(result_count=result_count)\n",
    "    \n",
    "    \n",
    "# Create an instance of the pipeline and submit a run\n",
    "pipeline_job = pipeline_with_custom_processing(\n",
    "    result_count=40\n",
    ")\n",
    "    \n",
    "returned_job = ml_client.jobs.create_or_update(\n",
    "    pipeline_job, experiment_name=\"textron_pipeline_sample\"\n",
    ")\n",
    "returned_job"
   ]
  },
  {
   "cell_type": "code",
   "execution_count": null,
   "id": "3f5f2d43-96a2-4e0a-808a-92bba161627d",
   "metadata": {},
   "outputs": [],
   "source": [
    "# wait until the job completes\n",
    "ml_client.jobs.stream(returned_job.name)"
   ]
  },
  {
   "cell_type": "code",
   "execution_count": null,
   "id": "4582eb97-0dd5-41e1-bd1b-0b62546820b0",
   "metadata": {},
   "outputs": [],
   "source": [
    "from datetime import datetime\n",
    "from azure.ai.ml.entities import RecurrenceTrigger, RecurrencePattern, JobSchedule\n",
    "from azure.ai.ml.constants import TimeZone\n",
    "\n",
    "schedule_name = \"Pipeline_Schedule\"\n",
    "\n",
    "schedule_start_time = datetime.utcnow()\n",
    "recurrence_trigger = RecurrenceTrigger(\n",
    "    frequency=\"week\",\n",
    "    interval=1,\n",
    "    schedule=RecurrencePattern(hours=0, week_days=['sunday'], minutes=[0]),\n",
    "    start_time=schedule_start_time,\n",
    "    time_zone=TimeZone.UTC,\n",
    ")\n",
    "\n",
    "job_schedule = JobSchedule(\n",
    "    name=schedule_name, trigger=recurrence_trigger, create_job=pipeline_with_custom_processing(\n",
    "        result_count=40\n",
    "    )\n",
    ")\n",
    "\n",
    "job_schedule = ml_client.schedules.begin_create_or_update(\n",
    "    schedule=job_schedule\n",
    ").result()\n",
    "print(job_schedule)"
   ]
  },
  {
   "cell_type": "code",
   "execution_count": null,
   "id": "c852a197-53ea-4570-aadc-443010f86db2",
   "metadata": {},
   "outputs": [],
   "source": [
    "schedules = ml_client.schedules.list()\n",
    "[s.name for s in schedules]"
   ]
  }
 ],
 "metadata": {
  "kernelspec": {
   "display_name": "Python 3.10 - SDK v2",
   "language": "python",
   "name": "python310-sdkv2"
  },
  "language_info": {
   "codemirror_mode": {
    "name": "ipython",
    "version": 3
   },
   "file_extension": ".py",
   "mimetype": "text/x-python",
   "name": "python",
   "nbconvert_exporter": "python",
   "pygments_lexer": "ipython3",
   "version": "3.10.11"
  }
 },
 "nbformat": 4,
 "nbformat_minor": 5
}
